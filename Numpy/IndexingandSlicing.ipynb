{
 "cells": [
  {
   "cell_type": "markdown",
   "metadata": {},
   "source": [
    "Indexing and slicing in numpy array"
   ]
  },
  {
   "cell_type": "code",
   "execution_count": 7,
   "metadata": {},
   "outputs": [
    {
     "name": "stdout",
     "output_type": "stream",
     "text": [
      "Second element: 45\n",
      "First element: 2\n",
      "Last element: 5\n"
     ]
    }
   ],
   "source": [
    "import numpy as np\n",
    "nums=np.array([2,3,45,9,5])\n",
    "print(\"Second element:\",nums[2])\n",
    "print('First element:',nums[0])\n",
    "len1=len(nums)\n",
    "print(\"Last element:\",nums[len1-1])"
   ]
  },
  {
   "cell_type": "code",
   "execution_count": 14,
   "metadata": {},
   "outputs": [
    {
     "name": "stdout",
     "output_type": "stream",
     "text": [
      "[[1 2 3]\n",
      " [8 7 6]]\n",
      "Dimension: 2\n",
      "3\n"
     ]
    }
   ],
   "source": [
    "var1=np.array([[1,2,3],[8,7,6]])\n",
    "print(var1)\n",
    "print(\"Dimension:\",np.ndim(var1))\n",
    "\n",
    "print(var1[0,2])"
   ]
  },
  {
   "cell_type": "code",
   "execution_count": 24,
   "metadata": {},
   "outputs": [
    {
     "name": "stdout",
     "output_type": "stream",
     "text": [
      "3 dimensional Array:\n",
      "[[[1 2]\n",
      "  [5 6]\n",
      "  [7 6]]]\n",
      "Dimension of the array: 3\n",
      "[7 6]\n",
      "\n",
      "[5 6]\n"
     ]
    }
   ],
   "source": [
    "import numpy as np\n",
    "var=np.array([[[1,2],[5,6],[7,6]]])\n",
    "print(\"3 dimensional Array:\")\n",
    "print(var)\n",
    "print(\"Dimension of the array:\",np.ndim(var))\n",
    "\n",
    "# to get  number array\n",
    "print(var[0,2])\n",
    "print()\n",
    "print(var[0,1])"
   ]
  },
  {
   "cell_type": "code",
   "execution_count": 34,
   "metadata": {},
   "outputs": [
    {
     "name": "stdout",
     "output_type": "stream",
     "text": [
      "[ 4  3  2  3  3  4  5  5 76  7  5  5  5]\n",
      "[ 4  3  2  3  3  4  5  5 76  7  5  5  5]\n",
      "[ 4  2  3  5 76  5  5]\n",
      "[3 5 7 5]\n",
      "[ 3  3  4  5  5 76  7  5  5  5]\n",
      "[4 3 2 3 3]\n"
     ]
    }
   ],
   "source": [
    "var=np.array([4,3,2,3,3,4,5,5,76,7,5,5,5])\n",
    "e=len(var)\n",
    "print(var[0:e])\n",
    "print(var)\n",
    "print(var[0:e:2])\n",
    "print(var[3:e:3])\n",
    "print(var[3:])\n",
    "print(var[:5])"
   ]
  },
  {
   "cell_type": "code",
   "execution_count": 40,
   "metadata": {},
   "outputs": [
    {
     "name": "stdout",
     "output_type": "stream",
     "text": [
      "[2 3 5 5 6 7]\n",
      "[2 5]\n"
     ]
    }
   ],
   "source": [
    "\n",
    "var=np.array([2,3,5,5,6,7])\n",
    "print(var)\n",
    "e=len(var)\n",
    "print(var[0:e:3])\n"
   ]
  },
  {
   "cell_type": "markdown",
   "metadata": {},
   "source": [
    "for 2D arrays"
   ]
  },
  {
   "cell_type": "code",
   "execution_count": 51,
   "metadata": {},
   "outputs": [
    {
     "name": "stdout",
     "output_type": "stream",
     "text": [
      "\n",
      "0th index value: [1 2 3]\n",
      "1st index value: 3\n",
      "2nd index array: 5\n",
      "Length of the matrix: 3\n",
      "Sliced array: [[1 2 3]]\n",
      "Dimension of the array: 2\n"
     ]
    }
   ],
   "source": [
    "import numpy as np\n",
    "car=np.array([[1,2,3],[5,6,87],[5,6,7]])\n",
    "e=len(car)\n",
    "print()\n",
    "print(\"0th index value:\",car[0])\n",
    "print(\"1st index value:\",var[1])\n",
    "print(\"2nd index array:\" ,var[2])\n",
    "print('Length of the matrix:',e)\n",
    "print(\"Sliced array:\",car[0:e:3])\n",
    "print(\"Dimension of the array:\",np.ndim(car))"
   ]
  }
 ],
 "metadata": {
  "kernelspec": {
   "display_name": "Python 3",
   "language": "python",
   "name": "python3"
  },
  "language_info": {
   "codemirror_mode": {
    "name": "ipython",
    "version": 3
   },
   "file_extension": ".py",
   "mimetype": "text/x-python",
   "name": "python",
   "nbconvert_exporter": "python",
   "pygments_lexer": "ipython3",
   "version": "3.12.5"
  }
 },
 "nbformat": 4,
 "nbformat_minor": 2
}
