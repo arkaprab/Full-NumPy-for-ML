{
 "cells": [
  {
   "cell_type": "markdown",
   "metadata": {},
   "source": [
    "To implement matrix operation"
   ]
  },
  {
   "cell_type": "code",
   "execution_count": 7,
   "metadata": {},
   "outputs": [
    {
     "name": "stdout",
     "output_type": "stream",
     "text": [
      "[ 2  3 43  5  5  3  4  3  3]\n",
      "2d-lists->\n",
      "[[2 3]\n",
      " [7 8]\n",
      " [4 5]]\n",
      "Dimension-> 2\n",
      "Data type-> <class 'numpy.ndarray'>\n"
     ]
    }
   ],
   "source": [
    "import numpy as np \n",
    "var=np.array([2,3,43,5,5,3,4,3,3])\n",
    "print(var)\n",
    "print(\"2d-lists->\")\n",
    "var1=np.array([[2,3],[7,8],[4,5]])\n",
    "print(var1)\n",
    "print(\"Dimension->\" , np.ndim(var1))\n",
    "print(\"Data type->\" , type(var1))"
   ]
  },
  {
   "cell_type": "code",
   "execution_count": 8,
   "metadata": {},
   "outputs": [
    {
     "name": "stdout",
     "output_type": "stream",
     "text": [
      "Matrix->\n",
      "[[ 3  4  5]\n",
      " [ 7  6 56]\n",
      " [ 3  4  5]]\n",
      "Dimension-> 2\n",
      "Datatype-> <class 'numpy.matrix'>\n",
      "Program is sucessful..thank you.\n"
     ]
    }
   ],
   "source": [
    "import numpy as np\n",
    "c=np.matrix([[3,4,5],[7,6,56],[3,4,5]])\n",
    "print(\"Matrix->\")\n",
    "print(c)\n",
    "print(\"Dimension->\",np.ndim(c))\n",
    "print(\"Datatype->\", type(c))\n",
    "print(\"Program is sucessful..thank you.\")"
   ]
  },
  {
   "cell_type": "markdown",
   "metadata": {},
   "source": [
    "To perform matrix arithmetic operation"
   ]
  },
  {
   "cell_type": "code",
   "execution_count": null,
   "metadata": {},
   "outputs": [],
   "source": [
    "import numpy as np\n",
    "a=np.matrix([[2,3,4],[4,5,6]])\n",
    "b=np.matrix([[2,3,4],[5,6,7]])\n",
    "print(\"Sumation matrix->\")\n",
    "print((a+b))\n",
    "print(\"Difference matrix->\")\n",
    "print(a-b)\n",
    "print(\"Multiplication matrix->\")\n",
    "print(a*b)\n",
    "\n",
    "print(\"Thank You ,have a nice day.\")"
   ]
  },
  {
   "cell_type": "code",
   "execution_count": 16,
   "metadata": {},
   "outputs": [
    {
     "name": "stdout",
     "output_type": "stream",
     "text": [
      "[[ 3  5]\n",
      " [11 13]]\n",
      "\n",
      "[[1 1]\n",
      " [1 1]]\n",
      "\n",
      "[[ 2  6]\n",
      " [30 42]]\n"
     ]
    }
   ],
   "source": [
    "import numpy as np\n",
    "a=np.array([[2,3],[6,7]])\n",
    "b=np.array([[1,2],[5,6]])\n",
    "\n",
    "print(a+b)\n",
    "print(\"\")\n",
    "print(a-b)\n",
    "print(\"\")\n",
    "print(a*b)"
   ]
  },
  {
   "cell_type": "markdown",
   "metadata": {},
   "source": [
    "Common matrix operations::\n",
    "->Transpose\n",
    "->Swapaxes\n",
    "->Inverse\n",
    "->Power\n",
    "->Determinate"
   ]
  },
  {
   "cell_type": "markdown",
   "metadata": {},
   "source": [
    "Transpose"
   ]
  },
  {
   "cell_type": "code",
   "execution_count": 26,
   "metadata": {},
   "outputs": [
    {
     "name": "stdout",
     "output_type": "stream",
     "text": [
      "Normal matrix-> [[1 2]\n",
      " [5 6]]\n",
      "Transpose: [[1 5]\n",
      " [2 6]]\n",
      "Orginal matrix-> [[1 2 3]\n",
      " [6 7 8]\n",
      " [3 2 1]]\n",
      "Transpose->\n",
      " [[1 6 3]\n",
      " [2 7 2]\n",
      " [3 8 1]]\n",
      "After swapaxes function:\n",
      "[[1 6 3]\n",
      " [2 7 2]\n",
      " [3 8 1]]\n"
     ]
    }
   ],
   "source": [
    "import numpy as np\n",
    "cv=np.matrix([[1,2],[5,6]])\n",
    "c=np.matrix([[1,2,3],[6,7,8],[3,2,1]])\n",
    "print(\"Normal matrix->\",cv)\n",
    "print(\"Transpose:\", np.transpose(cv))\n",
    "print(\"Orginal matrix->\",c)\n",
    "print(\"Transpose->\\n\" ,np.transpose(c))\n",
    "print(\"After swapaxes function:\")\n",
    "print(np.swapaxes(c,0,1))"
   ]
  },
  {
   "cell_type": "markdown",
   "metadata": {},
   "source": [
    "To find inverse of a matrix"
   ]
  },
  {
   "cell_type": "code",
   "execution_count": 29,
   "metadata": {},
   "outputs": [
    {
     "name": "stdout",
     "output_type": "stream",
     "text": [
      "Original:\n",
      "[[ 1  3  4]\n",
      " [ 7  6 45]\n",
      " [ 3  4  5]]\n",
      "\n",
      "Inverse->\n",
      "[[-0.78947368  0.00526316  0.58421053]\n",
      " [ 0.52631579 -0.03684211 -0.08947368]\n",
      " [ 0.05263158  0.02631579 -0.07894737]]\n",
      "Determinant of the matrix:\n",
      "190.0\n"
     ]
    }
   ],
   "source": [
    "import numpy as np\n",
    "print(\"Original:\")\n",
    "var=np.matrix([[1,3,4],[7,6,45,],[3,4,5]])\n",
    "print(var)\n",
    "print()\n",
    "print(\"Inverse->\")\n",
    "print(np.linalg.inv(var))\n",
    "print(\"Determinant of the matrix:\")\n",
    "print(np.linalg.det(var))"
   ]
  },
  {
   "cell_type": "code",
   "execution_count": 40,
   "metadata": {},
   "outputs": [
    {
     "name": "stdout",
     "output_type": "stream",
     "text": [
      "Original matrix->\n",
      "[[ 1  2]\n",
      " [ 5 65]]\n",
      "Trace of the matrix :\n",
      "66\n",
      "Exponential values:\n",
      "[[  11  132]\n",
      " [ 330 4235]]\n",
      "Rank of the matrix:\n",
      "2\n",
      "Norm of the matrix:\n",
      "65.23036102920173\n",
      "Transpose of the matrix:\n",
      "[[ 1  5]\n",
      " [ 2 65]]\n"
     ]
    }
   ],
   "source": [
    "import numpy as np\n",
    "var=np.matrix([[1,2],[5,65]])\n",
    "print(\"Original matrix->\")\n",
    "print(var)\n",
    "x=np.linalg.trace(var)\n",
    "print(\"Trace of the matrix :\")\n",
    "print(x)\n",
    "print(\"Exponential values:\")\n",
    "print(np.linalg.matrix_power(var, 2))\n",
    "print(\"Rank of the matrix:\")\n",
    "print(np.linalg.matrix_rank(var))\n",
    "print(\"Norm of the matrix:\")\n",
    "print(np.linalg.matrix_norm(var))\n",
    "print(\"Transpose of the matrix:\")\n",
    "print(np.linalg.matrix_transpose(var))"
   ]
  }
 ],
 "metadata": {
  "kernelspec": {
   "display_name": "Python 3",
   "language": "python",
   "name": "python3"
  },
  "language_info": {
   "codemirror_mode": {
    "name": "ipython",
    "version": 3
   },
   "file_extension": ".py",
   "mimetype": "text/x-python",
   "name": "python",
   "nbconvert_exporter": "python",
   "pygments_lexer": "ipython3",
   "version": "3.12.5"
  }
 },
 "nbformat": 4,
 "nbformat_minor": 2
}
