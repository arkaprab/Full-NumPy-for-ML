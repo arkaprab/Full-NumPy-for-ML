{
 "cells": [
  {
   "cell_type": "code",
   "execution_count": 3,
   "metadata": {},
   "outputs": [
    {
     "name": "stdout",
     "output_type": "stream",
     "text": [
      "[0. 0. 0. 0.]\n",
      " \n",
      "[[0. 0. 0. 0.]\n",
      " [0. 0. 0. 0.]\n",
      " [0. 0. 0. 0.]]\n"
     ]
    }
   ],
   "source": [
    "#Zero array\n",
    "import numpy as np\n",
    "at_zero=np.zeros(4)\n",
    "at_zero1=np.zeros((3,4))\n",
    "print(at_zero)\n",
    "print(\" \")\n",
    "print(at_zero1)"
   ]
  },
  {
   "cell_type": "code",
   "execution_count": 5,
   "metadata": {},
   "outputs": [
    {
     "name": "stdout",
     "output_type": "stream",
     "text": [
      "[1. 1. 1.]\n",
      "[[1. 1. 1. 1.]\n",
      " [1. 1. 1. 1.]\n",
      " [1. 1. 1. 1.]\n",
      " [1. 1. 1. 1.]]\n"
     ]
    }
   ],
   "source": [
    "#Ones array\n",
    "import numpy as np\n",
    "at_one=np.ones(3)\n",
    "print(at_one)\n",
    "at_one1=np.ones((4,4))\n",
    "print(at_one1)"
   ]
  },
  {
   "cell_type": "code",
   "execution_count": 2,
   "metadata": {},
   "outputs": [
    {
     "name": "stdout",
     "output_type": "stream",
     "text": [
      "[7.56572645e-307 1.60220393e-306 9.79111946e-307 2.41910791e-312]\n",
      "[[ 6.95312981e-310  6.95312981e-310]\n",
      " [ 6.54902186e-223 -8.44612125e+252]]\n"
     ]
    }
   ],
   "source": [
    "#Empty array\n",
    "import numpy as np\n",
    "ar_emp=np.empty(4)\n",
    "ar_empd=np.empty((2,2))\n",
    "print(ar_emp)\n",
    "\n",
    "print(ar_empd)"
   ]
  },
  {
   "cell_type": "code",
   "execution_count": 16,
   "metadata": {},
   "outputs": [
    {
     "name": "stdout",
     "output_type": "stream",
     "text": [
      "[ 0  1  2  3  4  5  6  7  8  9 10 11 12 13 14 15 16 17 18 19 20 21 22 23\n",
      " 24 25 26 27]\n"
     ]
    }
   ],
   "source": [
    "#Range\n",
    "import numpy as np\n",
    "arr=np.arange(28)\n",
    "print(arr)"
   ]
  },
  {
   "cell_type": "code",
   "execution_count": 3,
   "metadata": {},
   "outputs": [
    {
     "name": "stdout",
     "output_type": "stream",
     "text": [
      "[[1. 0. 0. 0. 0. 0. 0.]\n",
      " [0. 1. 0. 0. 0. 0. 0.]]\n"
     ]
    }
   ],
   "source": [
    "#diagonal element\n",
    "import numpy as np\n",
    "arr=np.eye(2,7) # for diagonal element.\n",
    "print(arr)"
   ]
  },
  {
   "cell_type": "code",
   "execution_count": 5,
   "metadata": {},
   "outputs": [
    {
     "name": "stdout",
     "output_type": "stream",
     "text": [
      "[ 7.         11.66666667 16.33333333 21.         25.66666667 30.33333333\n",
      " 35.        ]\n"
     ]
    }
   ],
   "source": [
    "#linespace\n",
    "import numpy as np\n",
    "arr_lin=np.linspace(7,35,num=7)\n",
    "print(arr_lin)"
   ]
  },
  {
   "cell_type": "markdown",
   "metadata": {},
   "source": [
    "Exploring numpy as an imposter"
   ]
  },
  {
   "cell_type": "code",
   "execution_count": 9,
   "metadata": {},
   "outputs": [
    {
     "name": "stdout",
     "output_type": "stream",
     "text": [
      "[0.70726857 0.50096875]\n"
     ]
    }
   ],
   "source": [
    "# create numpy array from random \n",
    "import numpy as np\n",
    "a=np.random.rand(2)\n",
    "print(a)"
   ]
  },
  {
   "cell_type": "code",
   "execution_count": 12,
   "metadata": {},
   "outputs": [
    {
     "name": "stdout",
     "output_type": "stream",
     "text": [
      "[[0.32310372 0.39333727 0.37632711]\n",
      " [0.89882429 0.78389559 0.96213774]\n",
      " [0.13112235 0.09495542 0.92692033]]\n"
     ]
    }
   ],
   "source": [
    "var1=np.random.rand(3,3)\n",
    "print(var1)"
   ]
  },
  {
   "cell_type": "code",
   "execution_count": 13,
   "metadata": {},
   "outputs": [
    {
     "name": "stdout",
     "output_type": "stream",
     "text": [
      "[[ 0.62457759 -1.0466597  -1.61412527]\n",
      " [ 0.67714295  0.37350241  0.44347902]\n",
      " [ 1.33807387 -0.35302036  1.52616853]]\n"
     ]
    }
   ],
   "source": [
    "#randn() func.to generate  rnadom +ve and -ve numbers.\n",
    "var2=np.random.randn(3,3)\n",
    "print(var2)"
   ]
  },
  {
   "cell_type": "code",
   "execution_count": 15,
   "metadata": {},
   "outputs": [
    {
     "name": "stdout",
     "output_type": "stream",
     "text": [
      "[0.94095171 0.19537051 0.55566413 0.18471633]\n"
     ]
    }
   ],
   "source": [
    "# to generate random floating values.\n",
    "var3=np.random.ranf(4)\n",
    "print(var3)"
   ]
  },
  {
   "cell_type": "code",
   "execution_count": 18,
   "metadata": {},
   "outputs": [
    {
     "name": "stdout",
     "output_type": "stream",
     "text": [
      "[4 4 4 4 4 4 4]\n"
     ]
    }
   ],
   "source": [
    "# to generate random int numbers within a range.\n",
    "var=np.random.randint(4,5,7)\n",
    "#min value=4,max value =5,generate random 7 numbers.\n",
    "print(var)"
   ]
  }
 ],
 "metadata": {
  "kernelspec": {
   "display_name": "Python 3",
   "language": "python",
   "name": "python3"
  },
  "language_info": {
   "codemirror_mode": {
    "name": "ipython",
    "version": 3
   },
   "file_extension": ".py",
   "mimetype": "text/x-python",
   "name": "python",
   "nbconvert_exporter": "python",
   "pygments_lexer": "ipython3",
   "version": "3.12.5"
  }
 },
 "nbformat": 4,
 "nbformat_minor": 2
}
