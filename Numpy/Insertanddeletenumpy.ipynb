{
 "cells": [
  {
   "cell_type": "markdown",
   "metadata": {},
   "source": [
    "To implement insert and deletion in array(numpy wala)"
   ]
  },
  {
   "cell_type": "code",
   "execution_count": 4,
   "metadata": {},
   "outputs": [
    {
     "name": "stdout",
     "output_type": "stream",
     "text": [
      "[ 2  3  4  5 67]\n",
      "<class 'numpy.ndarray'>\n",
      "Dimension-> 1\n",
      "After value insertion-> [  2   3   4 100   5  67]\n"
     ]
    }
   ],
   "source": [
    "import numpy as np \n",
    "a=np.array([2,3,4,5,67])\n",
    "print(a)\n",
    "print(type(a))\n",
    "print(\"Dimension->\",np.ndim(a))\n",
    "x=np.insert(a,3,100)\n",
    "#          (array,postion,value)\n",
    "print(\"After value insertion->\",x)"
   ]
  },
  {
   "cell_type": "markdown",
   "metadata": {},
   "source": [
    "for 1-d dimensional array"
   ]
  },
  {
   "cell_type": "code",
   "execution_count": 5,
   "metadata": {},
   "outputs": [
    {
     "name": "stdout",
     "output_type": "stream",
     "text": [
      "[2 3 4 5 4 3 4 3]\n",
      "[   2    3    4    5    4    3    4    3 1000]\n"
     ]
    }
   ],
   "source": [
    "import numpy as np\n",
    "var1=np.array([2,3,4,5,4,3,4,3])\n",
    "print(var1)\n",
    "x=np.insert(var1,len(var1),1000)\n",
    "print(x)\n",
    "print(\"Thank you.\")"
   ]
  },
  {
   "cell_type": "code",
   "execution_count": 10,
   "metadata": {},
   "outputs": [
    {
     "name": "stdout",
     "output_type": "stream",
     "text": [
      "Original-> [ 2  3  4 45  5  5  5  4  3]\n",
      "Modified-> [ 2  3  4 -4 45  5  5  5  4  3]\n",
      "Modified again-> [ 2  3  4 45 -2  5  5  5  4  3]\n",
      "[ 2  3  3  4  5  6  7  4 45  5  5  5  4  3]\n"
     ]
    }
   ],
   "source": [
    "import numpy as np\n",
    "var=np.array([2,3,4,45,5,5,5,4,3])\n",
    "print(\"Original->\",var)\n",
    "v=np.insert(var,3,-4,axis=0)\n",
    "print(\"Modified->\", v)\n",
    "b=np.insert(var,4,-2,axis=0)\n",
    "print(\"Modified again->\" , b)\n",
    "c=np.insert(var,2,[3,4,5,6,7])\n",
    "print(\"Modified->\", c)"
   ]
  },
  {
   "cell_type": "markdown",
   "metadata": {},
   "source": [
    "Two dimensional implementation"
   ]
  },
  {
   "cell_type": "code",
   "execution_count": 14,
   "metadata": {},
   "outputs": [
    {
     "name": "stdout",
     "output_type": "stream",
     "text": [
      "[[ 1  2  3]\n",
      " [56  6  7]\n",
      " [ 2  3  4]]\n",
      "Modified matrix:\n",
      "[[ 1  2  3  4]\n",
      " [56  6  7  3]\n",
      " [ 2  3  4  2]]\n"
     ]
    }
   ],
   "source": [
    "import numpy as np\n",
    "a=np.array([[1,2,3],[56,6,7],[2,3,4]])\n",
    "print(a)\n",
    "x=np.insert(a,3,[4,3,2],axis=1)\n",
    "print(\"Modified matrix:\")\n",
    "print(x)"
   ]
  },
  {
   "cell_type": "markdown",
   "metadata": {},
   "source": [
    "Deletion operation"
   ]
  },
  {
   "cell_type": "code",
   "execution_count": 23,
   "metadata": {},
   "outputs": [
    {
     "name": "stdout",
     "output_type": "stream",
     "text": [
      "Orginal list-> [ 3  4 56  7]\n",
      "After deletation-> [ 3  4 56]\n",
      "After deletation-> [3 4]\n"
     ]
    }
   ],
   "source": [
    "import numpy as np\n",
    "var1=np.array([3,4,56,7])\n",
    "print(\"Orginal list->\" , var1)\n",
    "index=int(input(\"Enter the index you want to delete:\"))\n",
    "d=np.delete(var1,index)\n",
    "print(\"After deletation->\" , d)\n",
    "i=int(input(\"Enter the value of the index you want to delete again:\"))\n",
    "v=np.delete(d,i)\n",
    "print(\"After deletation->\" , v)"
   ]
  }
 ],
 "metadata": {
  "kernelspec": {
   "display_name": "Python 3",
   "language": "python",
   "name": "python3"
  },
  "language_info": {
   "codemirror_mode": {
    "name": "ipython",
    "version": 3
   },
   "file_extension": ".py",
   "mimetype": "text/x-python",
   "name": "python",
   "nbconvert_exporter": "python",
   "pygments_lexer": "ipython3",
   "version": "3.12.5"
  }
 },
 "nbformat": 4,
 "nbformat_minor": 2
}
