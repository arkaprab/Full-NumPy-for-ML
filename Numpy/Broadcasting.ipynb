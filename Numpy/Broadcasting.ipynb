{
 "cells": [
  {
   "cell_type": "markdown",
   "metadata": {},
   "source": [
    "Broadcasting in numpy"
   ]
  },
  {
   "cell_type": "code",
   "execution_count": null,
   "metadata": {},
   "outputs": [],
   "source": [
    "import numpy as np\n",
    "print('Original lists:')\n",
    "var=np.array([1,2,3,4])\n",
    "print(var)\n",
    "car=np.array([3,4,4,5])\n",
    "print(car)\n",
    "print(\"Summation of lists using numpy:\")\n",
    "print(np.add(var,car))\n",
    "print(\"Difference of the lisTs:\")\n",
    "print(np.subtract(var,car))\n",
    "print(\"Product:\")\n",
    "print(np.multiply(var,car))\n",
    "print(\"Division:\")\n",
    "print(np.divide(var,car))\n",
    "print(\"Cosine values:\")\n",
    "print(np.cos(var))\n",
    "print(np.cos(car))"
   ]
  },
  {
   "cell_type": "code",
   "execution_count": null,
   "metadata": {},
   "outputs": [],
   "source": [
    "car1=np.array([1,2,3])\n",
    "car2=np.array([6,7,8])\n",
    "print(car.shape)\n",
    "print(np.shape(car2))\n",
    "print(np.add(car1,car2))\n",
    "\n",
    "print(car1!=car2)\n",
    "print(car1==car2)\n",
    "print(np.add(car1,car2))\n",
    "print(np.multiply(car1,car2))"
   ]
  },
  {
   "cell_type": "code",
   "execution_count": 20,
   "metadata": {},
   "outputs": [
    {
     "name": "stdout",
     "output_type": "stream",
     "text": [
      "(2, 1)\n",
      "(2, 3)\n",
      "Product values:\n",
      "[[ 1  2  3]\n",
      " [14 12 10]]\n"
     ]
    }
   ],
   "source": [
    "x=np.array([[1],[2]])\n",
    "print(np.shape(x))\n",
    "y=np.array([[1,2,3],[7,6,5]])\n",
    "print(np.shape(y))\n",
    "print(\"Product values:\")\n",
    "print(np.multiply(x,y))"
   ]
  }
 ],
 "metadata": {
  "kernelspec": {
   "display_name": "Python 3",
   "language": "python",
   "name": "python3"
  },
  "language_info": {
   "codemirror_mode": {
    "name": "ipython",
    "version": 3
   },
   "file_extension": ".py",
   "mimetype": "text/x-python",
   "name": "python",
   "nbconvert_exporter": "python",
   "pygments_lexer": "ipython3",
   "version": "3.12.5"
  }
 },
 "nbformat": 4,
 "nbformat_minor": 2
}
