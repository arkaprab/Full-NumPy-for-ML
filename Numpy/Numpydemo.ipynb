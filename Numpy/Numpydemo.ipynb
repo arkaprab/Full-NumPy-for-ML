{
 "cells": [
  {
   "cell_type": "code",
   "execution_count": 4,
   "metadata": {},
   "outputs": [
    {
     "name": "stdout",
     "output_type": "stream",
     "text": [
      "[1 2 3]\n"
     ]
    }
   ],
   "source": [
    "# demonstration of numpy.\n",
    "import numpy as np\n",
    "x=np.array([1,2,3])\n",
    "print(x)"
   ]
  },
  {
   "cell_type": "code",
   "execution_count": 8,
   "metadata": {},
   "outputs": [
    {
     "name": "stdout",
     "output_type": "stream",
     "text": [
      "[ 7  9  5 12]\n"
     ]
    }
   ],
   "source": [
    "# input a data nd push it into a list.\n",
    "l=[]\n",
    "for i in range(1,5):\n",
    "    my_data=int(input(\"Enter data of your choice:\"))\n",
    "    l.append(my_data)\n",
    "print(np.array(l))"
   ]
  },
  {
   "cell_type": "code",
   "execution_count": 9,
   "metadata": {},
   "outputs": [
    {
     "name": "stdout",
     "output_type": "stream",
     "text": [
      "[1, 2]\n",
      "<class 'list'>\n"
     ]
    }
   ],
   "source": [
    "# demo numpy\n",
    "import numpy as np\n",
    "lis=[]\n",
    "for i in range(1,3):\n",
    "    lis.append(i)\n",
    "print(lis)\n",
    "print(np.array(list))\n",
    "print(type(lis))"
   ]
  },
  {
   "cell_type": "code",
   "execution_count": 11,
   "metadata": {},
   "outputs": [
    {
     "name": "stdout",
     "output_type": "stream",
     "text": [
      "<class 'numpy.ndarray'>\n",
      "Dimension of the array: 1\n"
     ]
    }
   ],
   "source": [
    "import numpy as np\n",
    "a=np.array([1,2,3,4])\n",
    "print(type(a))\n",
    "print(\"Dimension of the array:\",a.ndim)"
   ]
  },
  {
   "cell_type": "code",
   "execution_count": 13,
   "metadata": {},
   "outputs": [
    {
     "name": "stdout",
     "output_type": "stream",
     "text": [
      "[1 2 3 4]\n",
      "[3 4 5 6]\n",
      "Dimension of the array-> 2\n"
     ]
    }
   ],
   "source": [
    "# demo of 2d array\n",
    "import numpy as np\n",
    "ar2=np.array([[1,2,3,4],[3,4,5,6]])\n",
    "for element in ar2:\n",
    "    print(element)\n",
    "print(\"Dimension of the array->\",ar2.ndim)"
   ]
  },
  {
   "cell_type": "code",
   "execution_count": 1,
   "metadata": {},
   "outputs": [
    {
     "name": "stdout",
     "output_type": "stream",
     "text": [
      "[[1 2]\n",
      " [4 5]\n",
      " [5 6]]\n",
      "Dimension of the array: 2\n"
     ]
    }
   ],
   "source": [
    "import numpy as np\n",
    "ar3=np.array([[1,2],[4,5],[5,6]])\n",
    "print(ar3)\n",
    "print(\"Dimension of the array:\",ar3.ndim)"
   ]
  },
  {
   "cell_type": "code",
   "execution_count": 1,
   "metadata": {},
   "outputs": [
    {
     "name": "stdout",
     "output_type": "stream",
     "text": [
      "[[[1 2 3]]]\n"
     ]
    }
   ],
   "source": [
    "# 10 dimensional array\n",
    "import numpy as np \n",
    "arn=np.array([1,2,3], ndmin=3)\n",
    "print(arn)"
   ]
  },
  {
   "cell_type": "code",
   "execution_count": 8,
   "metadata": {},
   "outputs": [
    {
     "name": "stdout",
     "output_type": "stream",
     "text": [
      "[[1 2 3]\n",
      " [4 5 6]\n",
      " [7 8 9]]\n",
      "Dimension: 2\n",
      "2\n"
     ]
    }
   ],
   "source": [
    "# reshape in numpy\n",
    "import numpy as np\n",
    "var=np.array([1,2,3,4,5,6,7,8,9])\n",
    "x=var.reshape(3,3)\n",
    "print(x)\n",
    "print()\n",
    "print(\"Dimension:\" , x.ndim)\n",
    "print(x.ndim)"
   ]
  }
 ],
 "metadata": {
  "kernelspec": {
   "display_name": "Python 3",
   "language": "python",
   "name": "python3"
  },
  "language_info": {
   "codemirror_mode": {
    "name": "ipython",
    "version": 3
   },
   "file_extension": ".py",
   "mimetype": "text/x-python",
   "name": "python",
   "nbconvert_exporter": "python",
   "pygments_lexer": "ipython3",
   "version": "3.12.5"
  }
 },
 "nbformat": 4,
 "nbformat_minor": 2
}
