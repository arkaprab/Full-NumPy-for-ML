{
 "cells": [
  {
   "cell_type": "markdown",
   "metadata": {},
   "source": [
    "join and split array"
   ]
  },
  {
   "cell_type": "code",
   "execution_count": 5,
   "metadata": {},
   "outputs": [
    {
     "name": "stdout",
     "output_type": "stream",
     "text": [
      "First array-> [1 2 3 4 5]\n",
      "Second array-> [3 5 6 7 8]\n",
      "New concated array-> [1 2 3 4 5 3 5 6 7 8]\n",
      "Concated sorted array-> [1 2 3 3 4 5 5 6 7 8]\n"
     ]
    }
   ],
   "source": [
    "import numpy as np\n",
    "arr=np.array([1,2,3,4,5])\n",
    "brr=np.array([3,5,6,7,8])\n",
    "print(\"First array->\",arr)\n",
    "print(\"Second array->\",brr)\n",
    "\n",
    "new=np.concat((arr,brr))\n",
    "ar=np.sort(new)\n",
    "print(\"New concated array->\",new)\n",
    "print(\"Concated sorted array->\",ar)\n"
   ]
  },
  {
   "cell_type": "markdown",
   "metadata": {},
   "source": [
    "For 2d arrays"
   ]
  },
  {
   "cell_type": "code",
   "execution_count": null,
   "metadata": {},
   "outputs": [],
   "source": [
    "import numpy as np\n",
    "ar1=np.array([[1,2],[6,7]])\n",
    "ar2=np.array([[3,4],[8,7]])\n",
    "print(\"First array->\\n\" , ar1)\n",
    "print(\"Second array->\\n\" ,ar2)\n",
    "print(\"Concat:\\n\")\n",
    "ar3=np.concatenate((ar1,ar2))\n",
    "print(ar3)\n",
    "ar4=np.concatenate((ar1,ar2),axis=0)\n",
    "ar5=np.concatenate((ar1,ar2),axis=1)\n",
    "print(ar4)\n",
    "print(ar5)"
   ]
  },
  {
   "cell_type": "markdown",
   "metadata": {},
   "source": [
    "Implement stack function"
   ]
  },
  {
   "cell_type": "code",
   "execution_count": 30,
   "metadata": {},
   "outputs": [
    {
     "name": "stdout",
     "output_type": "stream",
     "text": [
      "Verical stack-> [[4 5 6 6 4 3 5]\n",
      " [4 8 7 6 5 4 3]]\n",
      "Horizental stack-> [4 5 6 6 4 3 5 4 8 7 6 5 4 3]\n"
     ]
    }
   ],
   "source": [
    "import numpy as np\n",
    "var1=[4,5,6,6,4,3,5]\n",
    "var2=[4,8,7,6,5,4,3]\n",
    "ar=np.vstack((var1,var2))\n",
    "print(\"Verical stack->\",ar)\n",
    "br=np.hstack((var1,var2))\n",
    "print(\"Horizental stack->\",br)"
   ]
  },
  {
   "cell_type": "markdown",
   "metadata": {},
   "source": [
    "Split array"
   ]
  },
  {
   "cell_type": "code",
   "execution_count": 40,
   "metadata": {},
   "outputs": [
    {
     "name": "stdout",
     "output_type": "stream",
     "text": [
      "[ 2  3  4  5  6 76]\n",
      "[array([2, 3, 4]), array([ 5,  6, 76])]\n"
     ]
    }
   ],
   "source": [
    "import numpy as np\n",
    "arr=np.array([2,3,4,5,6,76])\n",
    "print(arr)\n",
    "brr=np.array_split(arr,2)\n",
    "print(brr)"
   ]
  }
 ],
 "metadata": {
  "kernelspec": {
   "display_name": "Python 3",
   "language": "python",
   "name": "python3"
  },
  "language_info": {
   "codemirror_mode": {
    "name": "ipython",
    "version": 3
   },
   "file_extension": ".py",
   "mimetype": "text/x-python",
   "name": "python",
   "nbconvert_exporter": "python",
   "pygments_lexer": "ipython3",
   "version": "3.12.5"
  }
 },
 "nbformat": 4,
 "nbformat_minor": 2
}
