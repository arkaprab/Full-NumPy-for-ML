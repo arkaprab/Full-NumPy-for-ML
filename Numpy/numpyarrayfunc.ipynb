{
 "cells": [
  {
   "cell_type": "code",
   "execution_count": 1,
   "metadata": {},
   "outputs": [
    {
     "name": "stdout",
     "output_type": "stream",
     "text": [
      "[ 5  4  3  2 43  3]\n",
      "Rearranged:\n",
      "[ 2  5  4 43  3  3]\n"
     ]
    }
   ],
   "source": [
    "# to randomly shuffle an array\n",
    "import numpy as np\n",
    "var=np.array([5,4,3,2,43,3])\n",
    "print(var)\n",
    "np.random.shuffle(var)\n",
    "print(\"Rearranged:\")\n",
    "print(var)\n"
   ]
  },
  {
   "cell_type": "code",
   "execution_count": 6,
   "metadata": {},
   "outputs": [
    {
     "name": "stdout",
     "output_type": "stream",
     "text": [
      "(array([3, 4, 5, 6, 7, 8]), array([ 0,  1,  5, 10, 11, 12]), array([2, 3, 5, 1, 1, 1]))\n"
     ]
    }
   ],
   "source": [
    "# to remove duplicate elements\n",
    "var1=np.array([3,4,4,3,4,5,5,5,5,5,6,7,8])\n",
    "x=np.unique(var1,return_index=True,return_counts=True)\n",
    "print(x)"
   ]
  },
  {
   "cell_type": "code",
   "execution_count": 2,
   "metadata": {},
   "outputs": [
    {
     "name": "stdout",
     "output_type": "stream",
     "text": [
      "[[2 3]\n",
      " [4 5]\n",
      " [6 7]]\n"
     ]
    }
   ],
   "source": [
    "#implement resize function\n",
    "import numpy as np\n",
    "v=np.array([2,3,4,5,6,7,7,7,8,5])\n",
    "y=np.resize(v,(3,2))\n",
    "print(y)\n"
   ]
  },
  {
   "cell_type": "markdown",
   "metadata": {},
   "source": [
    "To implement flatten function in\n",
    "numpy"
   ]
  },
  {
   "cell_type": "code",
   "execution_count": 6,
   "metadata": {},
   "outputs": [
    {
     "name": "stdout",
     "output_type": "stream",
     "text": [
      "[[1 2]\n",
      " [4 5]\n",
      " [6 7]]\n",
      "Flatten-> [1 2 4 5 6 7]\n",
      "Ravel: [1 2 4 5 6 7]\n",
      "Dimension-> 2\n"
     ]
    }
   ],
   "source": [
    "import numpy as np\n",
    "var=np.array([1,2,4,5,6,7,8,9,0])\n",
    "r=np.resize(var,(3,2))\n",
    "print(r)\n",
    "print(\"Flatten->\",r.flatten())\n",
    "print(\"Ravel:\" , np.ravel(r))\n",
    "\n",
    "print(\"Dimension->\",np.ndim(r))"
   ]
  }
 ],
 "metadata": {
  "kernelspec": {
   "display_name": "Python 3",
   "language": "python",
   "name": "python3"
  },
  "language_info": {
   "codemirror_mode": {
    "name": "ipython",
    "version": 3
   },
   "file_extension": ".py",
   "mimetype": "text/x-python",
   "name": "python",
   "nbconvert_exporter": "python",
   "pygments_lexer": "ipython3",
   "version": "3.12.5"
  }
 },
 "nbformat": 4,
 "nbformat_minor": 2
}
