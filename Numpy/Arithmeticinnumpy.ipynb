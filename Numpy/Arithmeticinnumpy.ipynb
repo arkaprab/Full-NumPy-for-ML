{
 "cells": [
  {
   "cell_type": "code",
   "execution_count": 2,
   "metadata": {},
   "outputs": [
    {
     "name": "stdout",
     "output_type": "stream",
     "text": [
      "[ 5  6  7  8  9 10]\n"
     ]
    }
   ],
   "source": [
    "import numpy as np\n",
    "va=np.array([1,2,3,4,5,6])\n",
    "add=va+4\n",
    "print(add)"
   ]
  },
  {
   "cell_type": "code",
   "execution_count": 4,
   "metadata": {},
   "outputs": [
    {
     "name": "stdout",
     "output_type": "stream",
     "text": [
      "[46 47 48 49 50 51]\n",
      "[-5 -4 -3 -2 -1  0]\n",
      "[ 4  8 12 16 20 24]\n",
      "[0.11111111 0.22222222 0.33333333 0.44444444 0.55555556 0.66666667]\n"
     ]
    }
   ],
   "source": [
    "import numpy as np\n",
    "va=np.array([1,2,3,4,5,6])\n",
    "add=va+45\n",
    "sub=va-6\n",
    "mul=va*4\n",
    "div=va/9\n",
    "print(add)\n",
    "print(sub)\n",
    "print(mul)\n",
    "print(div)"
   ]
  },
  {
   "cell_type": "markdown",
   "metadata": {},
   "source": [
    "Arihtmetic operation using functions"
   ]
  },
  {
   "cell_type": "code",
   "execution_count": 7,
   "metadata": {},
   "outputs": [
    {
     "name": "stdout",
     "output_type": "stream",
     "text": [
      "[ 6 12 15 18 21 24 27]\n",
      "[ 6 12 15 18 21 24 27]\n",
      "[  8  64 125 216 343 512 729]\n"
     ]
    }
   ],
   "source": [
    "v=np.array([2,4,5,6,7,8,9])\n",
    "v1=np.multiply(v,3)\n",
    "v2=v*3\n",
    "v3=v**3\n",
    "print(v1)\n",
    "print(v2)\n",
    "print(v3)"
   ]
  },
  {
   "cell_type": "markdown",
   "metadata": {},
   "source": [
    "for 2d arrays"
   ]
  },
  {
   "cell_type": "code",
   "execution_count": 12,
   "metadata": {},
   "outputs": [
    {
     "name": "stdout",
     "output_type": "stream",
     "text": [
      "[[1 2 3 4]\n",
      " [2 3 4 5]]\n",
      "\n",
      "[[2 3 4 5]\n",
      " [9 8 7 6]]\n",
      "\n",
      "[[ 3  5  7  9]\n",
      " [11 11 11 11]]\n",
      "\n",
      "2\n",
      "2\n"
     ]
    }
   ],
   "source": [
    "var=np.array([[1,2,3,4],[2,3,4,5]])\n",
    "tar=np.array([[2,3,4,5],[9,8,7,6]])\n",
    "print(var)\n",
    "print(\"\")\n",
    "print(tar)\n",
    "print(\"\")\n",
    "a=var+tar\n",
    "print(a)\n",
    "print(\"\")\n",
    "print(a.ndim)\n",
    "print(tar.ndim)"
   ]
  },
  {
   "cell_type": "code",
   "execution_count": 13,
   "metadata": {},
   "outputs": [
    {
     "name": "stdout",
     "output_type": "stream",
     "text": [
      "[1 0 0 0 0 0 0]\n"
     ]
    }
   ],
   "source": [
    "import numpy as np\n",
    "a=np.array([1,2,3,4,5,6,7])\n",
    "rec=np.reciprocal(a)\n",
    "print(rec)"
   ]
  },
  {
   "cell_type": "code",
   "execution_count": 15,
   "metadata": {},
   "outputs": [
    {
     "name": "stdout",
     "output_type": "stream",
     "text": [
      "Minimum: 2\n",
      "Maximum: 6\n"
     ]
    }
   ],
   "source": [
    "a=np.array([2,3,4,5,6])\n",
    "print(\"Minimum:\",np.min(a,np.argmin(a)))\n",
    "print(\"Maximum:\",np.max(a))"
   ]
  },
  {
   "cell_type": "code",
   "execution_count": 19,
   "metadata": {},
   "outputs": [
    {
     "name": "stdout",
     "output_type": "stream",
     "text": [
      "[1 3]\n",
      "0\n",
      "2\n"
     ]
    }
   ],
   "source": [
    "import numpy as np\n",
    "var1=np.array([[1,2,43],[3,4,6]])\n",
    "print(np.min(var1,axis=1))\n",
    "print(np.argmin(var1))\n",
    "print(np.argmax(var1))"
   ]
  },
  {
   "cell_type": "code",
   "execution_count": 10,
   "metadata": {},
   "outputs": [
    {
     "name": "stdout",
     "output_type": "stream",
     "text": [
      "Matrix 1:\n",
      " [[1 2 3]\n",
      " [2 3 4]\n",
      " [6 7 8]]\n",
      "\n",
      "Matrix 2:\n",
      " [[1 2 9]\n",
      " [2 3 2]\n",
      " [9 8 7]]\n",
      "\n",
      "Addition values:\n",
      "\n",
      "[[ 2  4 12]\n",
      " [ 4  6  6]\n",
      " [15 15 15]]\n",
      "Substracted values:\n",
      "\n",
      "\n",
      "Multiplied values:\n",
      " [[1.         1.         0.33333333]\n",
      " [1.         1.         2.        ]\n",
      " [0.66666667 0.875      1.14285714]]\n",
      "\n",
      "Exponential values:\n",
      " [[       1        4    19683]\n",
      " [       4       27       16]\n",
      " [10077696  5764801  2097152]]\n",
      "\n",
      "Square root values:\n",
      " [[1.         1.41421356 3.        ]\n",
      " [1.41421356 1.73205081 1.41421356]\n",
      " [3.         2.82842712 2.64575131]]\n",
      "Shapre of the matrix:\n",
      "(3, 3)\n",
      "Sine values of the matrix numbers:\n",
      "\n",
      "[[0.84147098 0.98776595 0.14112001]\n",
      " [0.98776595 0.98702664 0.98776595]\n",
      " [0.14112001 0.30807174 0.47577184]]\n",
      "\n",
      "Cosine values of the exponential values:\n",
      "\n",
      "[[ 0.54030231 -0.65364362 -0.60420762]\n",
      " [-0.65364362 -0.29213881 -0.95765948]\n",
      " [ 0.66892472 -0.89074651  0.78154857]]\n",
      "Tangent values of the differential matrix:\n",
      "\n",
      "[[ 0.          0.          0.29100619]\n",
      " [ 0.          0.         -2.18503986]\n",
      " [ 0.14254654 -1.55740772  1.55740772]]\n"
     ]
    }
   ],
   "source": [
    "import numpy as np\n",
    "var1=np.array([[1,2,3],\n",
    "               [2,3,4],\n",
    "               [6,7,8]])\n",
    "var2=np.array([[1,2,9],\n",
    "               [2,3,2],\n",
    "               [9,8,7]])\n",
    "\n",
    "print(\"Matrix 1:\\n\",var1)\n",
    "print()\n",
    "print(\"Matrix 2:\\n\",var2)\n",
    "print()\n",
    "print(\"Addition values:\\n\")\n",
    "v=np.add(var1,var2)\n",
    "print(v)\n",
    "print(\"Substracted values:\\n\")\n",
    "var4=np.subtract(var1,var2)\n",
    "var5=var1*var2\n",
    "var5=var1/var2\n",
    "var6=var1**var2\n",
    "var7=np.sqrt(var2)\n",
    "\n",
    "print()\n",
    "print(\"Multiplied values:\\n\",var5)\n",
    "print()\n",
    "print(\"Exponential values:\\n\",var6)\n",
    "print()\n",
    "print(\"Square root values:\\n\",var7)\n",
    "\n",
    "print(\"Shapre of the matrix:\")\n",
    "print(np.shape(var7))\n",
    "\n",
    "print(\"Sine values of the matrix numbers:\\n\")\n",
    "print(np.sin(var7))\n",
    "print(\"\")\n",
    "print(\"Cosine values of the exponential values:\\n\")\n",
    "print(np.cos(var6))\n",
    "print(\"Tangent values of the differential matrix:\\n\")\n",
    "print(np.tan(var4))"
   ]
  },
  {
   "cell_type": "code",
   "execution_count": null,
   "metadata": {},
   "outputs": [],
   "source": [
    "import numpy as np\n",
    "var1=np.array([[1,2,3],\n",
    "               [2,3,4],\n",
    "               [6,7,8]])\n",
    "var2=np.array([[1,2,9],\n",
    "               [2,3,2],\n",
    "               [9,8,7]])\n",
    "\n",
    "print(\"Matrix 1:\\n\",var1)\n",
    "print()\n",
    "print(\"Matrix 2:\\n\",var2)\n",
    "print()\n",
    "v=np.add(var1,var2)\n",
    "print(v)\n",
    "\n",
    "var4=np.subtract(var1,var2)\n",
    "var5=var1*var2\n",
    "var5=var1/var2\n",
    "var6=var1**var2\n",
    "var7=np.sqrt(var2)\n",
    "\n",
    "print()\n",
    "print(\"Difference:\\n\",var4)\n",
    "print()\n",
    "print(\"Multiply:\\n\",var5)\n",
    "print()\n",
    "print(\"Exponent:\\n\",var6)\n",
    "print()\n",
    "print(\"Square root:\\n\",var7)\n",
    "\n",
    "print(np.shape(var7))\n",
    "\n"
   ]
  },
  {
   "cell_type": "markdown",
   "metadata": {},
   "source": [
    "To find maximum and minimum element using numpy library\n"
   ]
  },
  {
   "cell_type": "code",
   "execution_count": 13,
   "metadata": {},
   "outputs": [
    {
     "name": "stdout",
     "output_type": "stream",
     "text": [
      "Maximum value: 9\n",
      "Minimum value: 1\n",
      "Maximum value indeX: 4\n",
      "Minimum value index: 0\n"
     ]
    }
   ],
   "source": [
    "import numpy as np\n",
    "var=np.array([1,3,5,7,9])\n",
    "print(\"Maximum value:\", np.max(var))\n",
    "print(\"Minimum value:\" , np.min(var))\n",
    "print(\"Maximum value indeX:\" , np.argmax(var))\n",
    "print(\"Minimum value index:\" , np.argmin(var))"
   ]
  },
  {
   "cell_type": "code",
   "execution_count": 18,
   "metadata": {},
   "outputs": [
    {
     "name": "stdout",
     "output_type": "stream",
     "text": [
      "Minimum value column wise: [1 2 3]\n",
      "Maximum value row wise: [3 7]\n",
      "Square root values of matrix:\n",
      " [[1.         1.41421356 1.73205081]\n",
      " [2.23606798 2.44948974 2.64575131]]\n",
      "Square root of 5:\n",
      "2.23606797749979\n"
     ]
    }
   ],
   "source": [
    "var=([[1,2,3],[5,6,7]])\n",
    "print(\"Minimum value column wise:\",np.min(var , axis=0))\n",
    "print(\"Maximum value row wise:\",np.max(var,axis=1))\n",
    "print(\"Square root values of matrix:\\n\",np.sqrt(var))\n",
    "a=5\n",
    "print(\"Square root of 5:\")\n",
    "print(np.sqrt(a))"
   ]
  },
  {
   "cell_type": "markdown",
   "metadata": {},
   "source": [
    "Cumsum means sumamtion of the current values with all the previous values"
   ]
  },
  {
   "cell_type": "code",
   "execution_count": 21,
   "metadata": {},
   "outputs": [
    {
     "name": "stdout",
     "output_type": "stream",
     "text": [
      "Sine values->\n",
      "[-0.53657292  0.99991186  0.87328261]\n",
      "Cosine values->\n",
      "[ 0.84385396 -0.01327675 -0.487214  ]\n",
      "Tangential values->\n",
      "[ -0.63585993 -75.3130148   -1.79240049]\n",
      "Cumsum-> [ 12  45 600]\n"
     ]
    }
   ],
   "source": [
    "car=np.array([12,33,555])\n",
    "print(\"Sine values->\")\n",
    "print(np.sin(car))\n",
    "print(\"Cosine values->\")\n",
    "print(np.cos(car))\n",
    "print(\"Tangential values->\")\n",
    "print(np.tan(car))\n",
    "print(\"Cumsum->\" , np.cumsum(car))"
   ]
  }
 ],
 "metadata": {
  "kernelspec": {
   "display_name": "Python 3",
   "language": "python",
   "name": "python3"
  },
  "language_info": {
   "codemirror_mode": {
    "name": "ipython",
    "version": 3
   },
   "file_extension": ".py",
   "mimetype": "text/x-python",
   "name": "python",
   "nbconvert_exporter": "python",
   "pygments_lexer": "ipython3",
   "version": "3.12.5"
  }
 },
 "nbformat": 4,
 "nbformat_minor": 2
}
