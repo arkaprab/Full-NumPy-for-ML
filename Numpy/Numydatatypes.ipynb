{
 "cells": [
  {
   "cell_type": "code",
   "execution_count": 2,
   "metadata": {},
   "outputs": [
    {
     "name": "stdout",
     "output_type": "stream",
     "text": [
      "Data type: int64\n",
      "Dimension: 1\n"
     ]
    }
   ],
   "source": [
    "import numpy as np\n",
    "var=np.array([1,2,3,4,5])\n",
    "print(\"Data type:\" , var.dtype)\n",
    "print(\"Dimension:\" , var.ndim)"
   ]
  },
  {
   "cell_type": "code",
   "execution_count": 3,
   "metadata": {},
   "outputs": [
    {
     "name": "stdout",
     "output_type": "stream",
     "text": [
      "[2.5 6.7 6.7]\n",
      "Data type: float64\n",
      "Dimension: 1\n"
     ]
    }
   ],
   "source": [
    "var=np.array([2.5,6.7,6.7])\n",
    "print(var)\n",
    "print(\"Data type:\",var.dtype)\n",
    "print(\"Dimension:\" , var.ndim)"
   ]
  },
  {
   "cell_type": "code",
   "execution_count": 5,
   "metadata": {},
   "outputs": [
    {
     "name": "stdout",
     "output_type": "stream",
     "text": [
      "['Apple' 'Pineapple' '23' '34']\n",
      "Data type: <U21\n",
      "Dimension: 1\n"
     ]
    }
   ],
   "source": [
    "var=np.array([\"Apple\",\"Pineapple\",23,34])\n",
    "print(var)\n",
    "print(\"Data type:\",var.dtype)\n",
    "print(\"Dimension:\", var.ndim)"
   ]
  },
  {
   "cell_type": "code",
   "execution_count": 12,
   "metadata": {},
   "outputs": [
    {
     "name": "stdout",
     "output_type": "stream",
     "text": [
      "Data type: int8\n",
      "[1 2 3 4 5]\n"
     ]
    }
   ],
   "source": [
    "x=np.array([1,2,3,4,5],dtype=np.int8)\n",
    "print(\"Data type:\",x.dtype)\n",
    "print((x))"
   ]
  },
  {
   "cell_type": "code",
   "execution_count": 14,
   "metadata": {},
   "outputs": [
    {
     "name": "stdout",
     "output_type": "stream",
     "text": [
      "Data type: float32\n",
      "[1. 2. 3. 4. 5.]\n"
     ]
    }
   ],
   "source": [
    "x=np.array([1,2,3,4,5],dtype=\"f\")\n",
    "print(\"Data type:\",x.dtype)\n",
    "print((x))"
   ]
  },
  {
   "cell_type": "code",
   "execution_count": 19,
   "metadata": {},
   "outputs": [
    {
     "name": "stdout",
     "output_type": "stream",
     "text": [
      "[1. 2. 3. 4. 5.]\n",
      "[1 2 3 4 5]\n",
      "Data type: float32\n",
      "Dimesion: 1\n",
      "In integer form: [1 2 3 4 5]\n"
     ]
    }
   ],
   "source": [
    "x=np.array([1,2,3,4,5])\n",
    "new=np.float32(x)\n",
    "print(new)\n",
    "print(x)\n",
    "print(\"Data type:\" , new.dtype)\n",
    "print(\"Dimesion:\" , new.ndim)\n",
    "\n",
    "# in integer form\n",
    "v=np.int32(new)\n",
    "print(\"In integer form:\",v)"
   ]
  },
  {
   "cell_type": "code",
   "execution_count": 23,
   "metadata": {},
   "outputs": [
    {
     "name": "stdout",
     "output_type": "stream",
     "text": [
      "[1 2 3 4 5]\n",
      "[1. 2. 3. 4. 5.]\n",
      "[1. 2. 3. 4. 5.]\n"
     ]
    }
   ],
   "source": [
    "x=np.array([1,2,3,4,5])\n",
    "new=x.astype(float)\n",
    "pl=np.float16(x)\n",
    "print(x)\n",
    "print(new)\n",
    "print(pl)"
   ]
  }
 ],
 "metadata": {
  "kernelspec": {
   "display_name": "Python 3",
   "language": "python",
   "name": "python3"
  },
  "language_info": {
   "codemirror_mode": {
    "name": "ipython",
    "version": 3
   },
   "file_extension": ".py",
   "mimetype": "text/x-python",
   "name": "python",
   "nbconvert_exporter": "python",
   "pygments_lexer": "ipython3",
   "version": "3.12.5"
  }
 },
 "nbformat": 4,
 "nbformat_minor": 2
}
