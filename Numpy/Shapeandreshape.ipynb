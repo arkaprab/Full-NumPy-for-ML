{
 "cells": [
  {
   "cell_type": "code",
   "execution_count": 1,
   "metadata": {},
   "outputs": [
    {
     "name": "stdout",
     "output_type": "stream",
     "text": [
      "Array:\n",
      "[[13  4]\n",
      " [ 3  4]]\n",
      "Shape: <function shape at 0x000002E835282160>\n",
      "Islamic emirate of afghanistan\n",
      "Dimension: <function ndim at 0x000002E8352834C0>\n"
     ]
    }
   ],
   "source": [
    "#shape\n",
    "import numpy as np\n",
    "var=np.array([[13,4],[3,4]])\n",
    "print(\"Array:\")\n",
    "print(var)\n",
    "print(\"Shape:\" , np.shape)\n",
    "print(\"Islamic emirate of afghanistan\")\n",
    "print(\"Dimension:\" , np.ndim)"
   ]
  },
  {
   "cell_type": "code",
   "execution_count": 24,
   "metadata": {},
   "outputs": [
    {
     "name": "stdout",
     "output_type": "stream",
     "text": [
      "[[[[1 2 3 4]]]]\n",
      "(1, 1, 1, 4)\n"
     ]
    }
   ],
   "source": [
    "var1=np.array([1,2,3,4],ndmin=4)\n",
    "print(var1)\n",
    "print(var1.shape)\n",
    "\n"
   ]
  },
  {
   "cell_type": "markdown",
   "metadata": {},
   "source": [
    "To reshape arrays"
   ]
  },
  {
   "cell_type": "code",
   "execution_count": 3,
   "metadata": {},
   "outputs": [
    {
     "name": "stdout",
     "output_type": "stream",
     "text": [
      "[ 1  2  3  4  5 76  6  8]\n",
      "Shape: (8,)\n",
      "[[[ 1  2]\n",
      "  [ 3  4]]\n",
      "\n",
      " [[ 5 76]\n",
      "  [ 6  8]]]\n",
      "3\n",
      "[ 1  2  3  4  5 76  6  8]\n"
     ]
    }
   ],
   "source": [
    "import numpy as np\n",
    "var=np.array([1,2,3,4,5,76,6,8])\n",
    "print(var)\n",
    "\n",
    "s1=var.shape\n",
    "s2=var.reshape(2,2,2)\n",
    "print(\"Shape:\" , s1)\n",
    "print(s2)\n",
    "print(s2.ndim)\n",
    "\n",
    "one=s2.reshape(-1)\n",
    "print(one)"
   ]
  }
 ],
 "metadata": {
  "kernelspec": {
   "display_name": "Python 3",
   "language": "python",
   "name": "python3"
  },
  "language_info": {
   "codemirror_mode": {
    "name": "ipython",
    "version": 3
   },
   "file_extension": ".py",
   "mimetype": "text/x-python",
   "name": "python",
   "nbconvert_exporter": "python",
   "pygments_lexer": "ipython3",
   "version": "3.12.5"
  }
 },
 "nbformat": 4,
 "nbformat_minor": 2
}
