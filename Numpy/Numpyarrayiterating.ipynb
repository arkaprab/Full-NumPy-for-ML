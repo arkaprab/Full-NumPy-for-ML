{
 "cells": [
  {
   "cell_type": "markdown",
   "metadata": {},
   "source": [
    "Numpy array iterating"
   ]
  },
  {
   "cell_type": "code",
   "execution_count": 6,
   "metadata": {},
   "outputs": [
    {
     "name": "stdout",
     "output_type": "stream",
     "text": [
      "[2 3 4 5]\n",
      "2 \t\n",
      "3 \t\n",
      "4 \t\n",
      "5 \t\n",
      "Thank you.\n"
     ]
    }
   ],
   "source": [
    "import numpy as np\n",
    "var=np.array([2,3,4,5])\n",
    "print(var)\n",
    "for i in range(0,len(var)):\n",
    "    print(var[i],\"\\t\")\n",
    "print(\"Thank you.\")"
   ]
  },
  {
   "cell_type": "code",
   "execution_count": 10,
   "metadata": {},
   "outputs": [
    {
     "name": "stdout",
     "output_type": "stream",
     "text": [
      "[[1 2]\n",
      " [3 4]\n",
      " [8 9]]\n",
      "Dimension -> 2\n",
      "[1 2]\n",
      "[3 4]\n",
      "[8 9]\n",
      "1\n",
      "2\n",
      "3\n",
      "4\n",
      "8\n",
      "9\n"
     ]
    }
   ],
   "source": [
    "var=np.array([[1,2],[3,4],[8,9]])\n",
    "print(var)\n",
    "print(\"Dimension ->\",np.ndim(var))\n",
    "\n",
    "for i in var:\n",
    "    print(i)\n",
    "for k in var:\n",
    "    for j in k:\n",
    "        print(j)"
   ]
  },
  {
   "cell_type": "code",
   "execution_count": 16,
   "metadata": {},
   "outputs": [
    {
     "name": "stdout",
     "output_type": "stream",
     "text": [
      "[[[1 2]\n",
      "  [4 5]\n",
      "  [9 8]]]\n",
      "Dimension -> 3\n",
      "[[1 2]\n",
      " [4 5]\n",
      " [9 8]]\n",
      "1\n",
      "2\n",
      "4\n",
      "5\n",
      "9\n",
      "8\n"
     ]
    }
   ],
   "source": [
    "import numpy as np\n",
    "arr=np.array([[[1,2],[4,5],[9,8]]])\n",
    "print(arr)\n",
    "print(\"Dimension ->\",np.ndim(arr))\n",
    "for i in arr:\n",
    "    print(i)\n",
    "#iterating a 3d array in different way\n",
    "for j in arr:\n",
    "    for k in j:\n",
    "        for l in k:\n",
    "            print(l)\n"
   ]
  },
  {
   "cell_type": "code",
   "execution_count": 1,
   "metadata": {},
   "outputs": [
    {
     "name": "stdout",
     "output_type": "stream",
     "text": [
      "[[[1 2 3 4]\n",
      "  [5 6 7 4]]]\n",
      "1\n",
      "2\n",
      "3\n",
      "4\n",
      "5\n",
      "6\n",
      "7\n",
      "4\n"
     ]
    }
   ],
   "source": [
    "import numpy as np\n",
    "va=np.array([[[1,2,3,4],[5,6,7,4]]])\n",
    "print(va)\n",
    "for i in np.nditer(va):\n",
    "    print(i)\n"
   ]
  }
 ],
 "metadata": {
  "kernelspec": {
   "display_name": "Python 3",
   "language": "python",
   "name": "python3"
  },
  "language_info": {
   "codemirror_mode": {
    "name": "ipython",
    "version": 3
   },
   "file_extension": ".py",
   "mimetype": "text/x-python",
   "name": "python",
   "nbconvert_exporter": "python",
   "pygments_lexer": "ipython3",
   "version": "3.12.5"
  }
 },
 "nbformat": 4,
 "nbformat_minor": 2
}
