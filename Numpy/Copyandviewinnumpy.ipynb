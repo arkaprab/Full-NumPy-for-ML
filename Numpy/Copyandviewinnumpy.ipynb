{
 "cells": [
  {
   "cell_type": "markdown",
   "metadata": {},
   "source": [
    "Copy vs view in numpy\n"
   ]
  },
  {
   "cell_type": "code",
   "execution_count": 1,
   "metadata": {},
   "outputs": [
    {
     "name": "stdout",
     "output_type": "stream",
     "text": [
      "[1 2 3 4 5]\n"
     ]
    }
   ],
   "source": [
    "import numpy as np\n",
    "var=np.array([1,2,3,4,5])\n",
    "var1=var.copy()\n",
    "print(\"Copied array:\")\n",
    "print(var1)\n"
   ]
  },
  {
   "cell_type": "code",
   "execution_count": 6,
   "metadata": {},
   "outputs": [
    {
     "name": "stdout",
     "output_type": "stream",
     "text": [
      "Original array-> [3 4 5 6]\n",
      "Viewed-> [ 3  4  5 90]\n",
      "Copied-> [ 3  4  5 90]\n"
     ]
    }
   ],
   "source": [
    "import numpy as np\n",
    "arr=np.array([3,4,5,6])\n",
    "print(\"Original array->\",arr)\n",
    "v1=arr.view()\n",
    "v1[3]=90\n",
    "print(\"Viewed->\" , v1)\n",
    "v2=np.copy(v1)\n",
    "print(\"Copied->\" , v2)\n"
   ]
  }
 ],
 "metadata": {
  "kernelspec": {
   "display_name": "Python 3",
   "language": "python",
   "name": "python3"
  },
  "language_info": {
   "codemirror_mode": {
    "name": "ipython",
    "version": 3
   },
   "file_extension": ".py",
   "mimetype": "text/x-python",
   "name": "python",
   "nbconvert_exporter": "python",
   "pygments_lexer": "ipython3",
   "version": "3.12.5"
  }
 },
 "nbformat": 4,
 "nbformat_minor": 2
}
